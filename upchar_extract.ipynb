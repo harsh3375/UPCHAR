{
  "nbformat": 4,
  "nbformat_minor": 0,
  "metadata": {
    "colab": {
      "name": "upchar_extract.ipynb",
      "provenance": [],
      "collapsed_sections": [],
      "authorship_tag": "ABX9TyPJ2AxLELYQ6q/QvT4QgS7s",
      "include_colab_link": true
    },
    "kernelspec": {
      "name": "python3",
      "display_name": "Python 3"
    },
    "language_info": {
      "name": "python"
    }
  },
  "cells": [
    {
      "cell_type": "markdown",
      "metadata": {
        "id": "view-in-github",
        "colab_type": "text"
      },
      "source": [
        "<a href=\"https://colab.research.google.com/github/harsh3375/UPCHAR/blob/main/upchar_extract.ipynb\" target=\"_parent\"><img src=\"https://colab.research.google.com/assets/colab-badge.svg\" alt=\"Open In Colab\"/></a>"
      ]
    },
    {
      "cell_type": "code",
      "metadata": {
        "id": "Y7JhFHZiisse"
      },
      "source": [
        ""
      ],
      "execution_count": null,
      "outputs": []
    },
    {
      "cell_type": "markdown",
      "metadata": {
        "id": "j7HxRKLBcTel"
      },
      "source": [
        "\n",
        "using BeautifulSoup to Extract Data from Webpage\n",
        "\n",
        "\n"
      ]
    },
    {
      "cell_type": "code",
      "metadata": {
        "id": "wjlG4uoYZVtU",
        "colab": {
          "base_uri": "https://localhost:8080/"
        },
        "outputId": "50677183-8312-4682-9803-181d38e07ea3"
      },
      "source": [
        "!pip install requests --upgrade --quiet"
      ],
      "execution_count": 1,
      "outputs": [
        {
          "output_type": "stream",
          "text": [
            "\u001b[?25l\r\u001b[K     |█████▎                          | 10 kB 22.2 MB/s eta 0:00:01\r\u001b[K     |██████████▌                     | 20 kB 26.3 MB/s eta 0:00:01\r\u001b[K     |███████████████▉                | 30 kB 28.1 MB/s eta 0:00:01\r\u001b[K     |█████████████████████           | 40 kB 19.8 MB/s eta 0:00:01\r\u001b[K     |██████████████████████████▎     | 51 kB 8.3 MB/s eta 0:00:01\r\u001b[K     |███████████████████████████████▋| 61 kB 9.0 MB/s eta 0:00:01\r\u001b[K     |████████████████████████████████| 62 kB 706 kB/s \n",
            "\u001b[31mERROR: pip's dependency resolver does not currently take into account all the packages that are installed. This behaviour is the source of the following dependency conflicts.\n",
            "google-colab 1.0.0 requires requests~=2.23.0, but you have requests 2.26.0 which is incompatible.\n",
            "datascience 0.10.6 requires folium==0.2.1, but you have folium 0.8.3 which is incompatible.\u001b[0m\n",
            "\u001b[?25h"
          ],
          "name": "stdout"
        }
      ]
    },
    {
      "cell_type": "code",
      "metadata": {
        "id": "EmjrvYO20oAN"
      },
      "source": [
        "import requests"
      ],
      "execution_count": 2,
      "outputs": []
    },
    {
      "cell_type": "code",
      "metadata": {
        "id": "Eu6h4Vrr0r3f"
      },
      "source": [
        "topics_url = 'https://www.myupchar.com/en/search?term=Paracetamol%20&filter=medicine'"
      ],
      "execution_count": 3,
      "outputs": []
    },
    {
      "cell_type": "code",
      "metadata": {
        "id": "cTJX24WR3WGJ"
      },
      "source": [
        "response= requests.get(topics_url)"
      ],
      "execution_count": 4,
      "outputs": []
    },
    {
      "cell_type": "code",
      "metadata": {
        "colab": {
          "base_uri": "https://localhost:8080/"
        },
        "id": "u-96p1re3lMD",
        "outputId": "84c4aa86-69ef-4e50-ae72-18901b2c317d"
      },
      "source": [
        "response.status_code"
      ],
      "execution_count": 5,
      "outputs": [
        {
          "output_type": "execute_result",
          "data": {
            "text/plain": [
              "200"
            ]
          },
          "metadata": {
            "tags": []
          },
          "execution_count": 5
        }
      ]
    },
    {
      "cell_type": "code",
      "metadata": {
        "colab": {
          "base_uri": "https://localhost:8080/"
        },
        "id": "CV-4vc5n3rGF",
        "outputId": "fcd8c366-7dac-4537-8acc-eaa25cd69323"
      },
      "source": [
        "len(response.text)"
      ],
      "execution_count": 6,
      "outputs": [
        {
          "output_type": "execute_result",
          "data": {
            "text/plain": [
              "106138"
            ]
          },
          "metadata": {
            "tags": []
          },
          "execution_count": 6
        }
      ]
    },
    {
      "cell_type": "code",
      "metadata": {
        "id": "V5Eqkm9J4BpA"
      },
      "source": [
        "page_contents= response.text"
      ],
      "execution_count": 7,
      "outputs": []
    },
    {
      "cell_type": "code",
      "metadata": {
        "colab": {
          "base_uri": "https://localhost:8080/",
          "height": 137
        },
        "id": "vzkwkfwJ4USn",
        "outputId": "3d2f2b85-0bdf-4536-9ec6-1bc9f9353238"
      },
      "source": [
        "page_contents[:1000]"
      ],
      "execution_count": 8,
      "outputs": [
        {
          "output_type": "execute_result",
          "data": {
            "application/vnd.google.colaboratory.intrinsic+json": {
              "type": "string"
            },
            "text/plain": [
              "'<!DOCTYPE html PUBLIC \"-//W3C//DTD XHTML 1.0 Transitional//EN\" \"https://www.w3.org/TR/xhtml1/DTD/xhtml1-transitional.dtd\">\\n<html xmlns=\"http://www.w3.org/1999/xhtml\">\\n<head>\\n<title>भारत की सबसे बड़ी हेल्थ साईट - India&#39;s #1 health site</title>\\n<meta name=\"keywords\" content=\"health information, health tips, free doctor consultation in hindi\" />\\n<meta name=\"description\" content=\"अपनी भाषा में हेल्थ टिप्स, स्वस्थ रहने के उपाय की जानकरी प्राप्त करें - Find health information, health tips in hindi\" />\\n<meta name=\"google\" content=\"notranslate\">\\n<meta property=\"og:title\" content=\"भारत की सबसे बड़ी हेल्थ साईट - India&#39;s #1 health site\" />\\n<meta name=\"google-site-verification\" content=\"sSYFYlXDCKEZNaT5FgBs8iHHDggJSq8WGxBA6JOZwnM\" />\\n<meta property=\"og:url\" content=\"https://www.myupchar.com/en/search?term=Paracetamol%20&amp;filter=medicine\" />\\n<meta property=\"og:type\" content=\"website\" />\\n<meta property=\"og:image\" content=\"https://asset.myupchar.com/home/logo.png\" />\\n<meta property=\"og:image'"
            ]
          },
          "metadata": {
            "tags": []
          },
          "execution_count": 8
        }
      ]
    },
    {
      "cell_type": "code",
      "metadata": {
        "id": "oox5rZH-4XTN"
      },
      "source": [
        "with open('webpage.html', 'w') as f:\n",
        "  f.write(page_contents)"
      ],
      "execution_count": 9,
      "outputs": []
    },
    {
      "cell_type": "code",
      "metadata": {
        "colab": {
          "base_uri": "https://localhost:8080/"
        },
        "id": "D7AEh5jW5Vwy",
        "outputId": "417e51a1-97c9-44d6-c28b-3b2cd70528d7"
      },
      "source": [
        "!pip install beautifulsoup4 --upgrade --quiet\n",
        "\n"
      ],
      "execution_count": 10,
      "outputs": [
        {
          "output_type": "stream",
          "text": [
            "\u001b[?25l\r\u001b[K     |██▉                             | 10 kB 22.6 MB/s eta 0:00:01\r\u001b[K     |█████▋                          | 20 kB 28.8 MB/s eta 0:00:01\r\u001b[K     |████████▌                       | 30 kB 13.0 MB/s eta 0:00:01\r\u001b[K     |███████████▎                    | 40 kB 13.4 MB/s eta 0:00:01\r\u001b[K     |██████████████▏                 | 51 kB 8.7 MB/s eta 0:00:01\r\u001b[K     |█████████████████               | 61 kB 8.6 MB/s eta 0:00:01\r\u001b[K     |███████████████████▉            | 71 kB 7.4 MB/s eta 0:00:01\r\u001b[K     |██████████████████████▋         | 81 kB 8.3 MB/s eta 0:00:01\r\u001b[K     |█████████████████████████▌      | 92 kB 8.6 MB/s eta 0:00:01\r\u001b[K     |████████████████████████████▎   | 102 kB 7.8 MB/s eta 0:00:01\r\u001b[K     |███████████████████████████████▏| 112 kB 7.8 MB/s eta 0:00:01\r\u001b[K     |████████████████████████████████| 115 kB 7.8 MB/s \n",
            "\u001b[?25h"
          ],
          "name": "stdout"
        }
      ]
    },
    {
      "cell_type": "code",
      "metadata": {
        "id": "EFjbmpkb4itL"
      },
      "source": [
        "from bs4 import BeautifulSoup"
      ],
      "execution_count": 11,
      "outputs": []
    },
    {
      "cell_type": "code",
      "metadata": {
        "id": "4xFUWcwp4ivM"
      },
      "source": [
        "doc= BeautifulSoup(page_contents,'html.parser')"
      ],
      "execution_count": 12,
      "outputs": []
    },
    {
      "cell_type": "code",
      "metadata": {
        "id": "lP0_qFXt4i1A"
      },
      "source": [
        "title_tag= doc.find_all('h5')"
      ],
      "execution_count": 95,
      "outputs": []
    },
    {
      "cell_type": "code",
      "metadata": {
        "colab": {
          "base_uri": "https://localhost:8080/"
        },
        "id": "m9ESkklj4i33",
        "outputId": "2b345925-5db1-44b2-cb10-6f621de6380c"
      },
      "source": [
        "len(title_tag)\n"
      ],
      "execution_count": 96,
      "outputs": [
        {
          "output_type": "execute_result",
          "data": {
            "text/plain": [
              "25"
            ]
          },
          "metadata": {
            "tags": []
          },
          "execution_count": 96
        }
      ]
    },
    {
      "cell_type": "code",
      "metadata": {
        "colab": {
          "base_uri": "https://localhost:8080/"
        },
        "id": "NxbaSgao4i6t",
        "outputId": "fd4d229d-5dc3-465d-8034-582a406279e5"
      },
      "source": [
        "title_tag\n",
        "titles= []\n",
        "for tag in title_tag:\n",
        "  titles.append(tag.text)\n",
        "print(titles[:3])"
      ],
      "execution_count": 97,
      "outputs": [
        {
          "output_type": "stream",
          "text": [
            "['Acerac P Tablet', 'Febrex Plus Tablet (10)', 'Dolo 650 Tablet']\n"
          ],
          "name": "stdout"
        }
      ]
    },
    {
      "cell_type": "code",
      "metadata": {
        "id": "0K2MtXwh4i9c",
        "colab": {
          "base_uri": "https://localhost:8080/"
        },
        "outputId": "997e3dfb-3cc0-409c-dce4-4cd6864f4192"
      },
      "source": [
        ""
      ],
      "execution_count": 38,
      "outputs": [
        {
          "output_type": "stream",
          "text": [
            "['Acerac P Tablet', 'Febrex Plus Tablet (10)', 'Dolo 650 Tablet', 'Calpol 650 Tablet (15)', 'Auspyratic 650 Tablet', 'Crocin 650 Tablet', 'Combiflam Suspension', 'Sumo Tablet (15)', 'Crocin 240 DS Suspension Mixed fruit', 'Dolo- 100 Drops', 'Acerac SP Tablet', 'Zerodol P Tablet', 'Crocin Baby Drops Peppermint', 'Dolo- 250 Syrup', 'Dolodart DS Suspension', 'Crocin Advance Tablet', 'Dolopar Tablet', 'Combipara SP Tablet', 'Sumo Hot Gel 30gm', 'Saridon Tablet', 'Aldigesic P Suspension', 'Flexon Tablet (15)', 'Combipara T 4 Tablet', 'Combipara T8 Tablet', 'डॉक्टर से सलाह के लिए विकल्प चुने']\n"
          ],
          "name": "stdout"
        }
      ]
    },
    {
      "cell_type": "code",
      "metadata": {
        "colab": {
          "base_uri": "https://localhost:8080/"
        },
        "id": "dFoqtMqj4i_L",
        "outputId": "f509780e-20bd-443e-fe06-71f3699dea25"
      },
      "source": [
        "len(titles)"
      ],
      "execution_count": 61,
      "outputs": [
        {
          "output_type": "execute_result",
          "data": {
            "text/plain": [
              "25"
            ]
          },
          "metadata": {
            "tags": []
          },
          "execution_count": 61
        }
      ]
    },
    {
      "cell_type": "markdown",
      "metadata": {
        "id": "lVvVYxnW_HK5"
      },
      "source": [
        "topic urls"
      ]
    },
    {
      "cell_type": "code",
      "metadata": {
        "id": "T26tRE1F-I5e"
      },
      "source": [
        "link_tags=  titles"
      ],
      "execution_count": 62,
      "outputs": []
    },
    {
      "cell_type": "code",
      "metadata": {
        "id": "FyyGtCdL_FZm",
        "colab": {
          "base_uri": "https://localhost:8080/",
          "height": 163
        },
        "outputId": "8e40944f-8569-42e8-ee23-7098538fd9d4"
      },
      "source": [
        "div_tags=title_tags0.parent.parent"
      ],
      "execution_count": 56,
      "outputs": [
        {
          "output_type": "error",
          "ename": "AttributeError",
          "evalue": "ignored",
          "traceback": [
            "\u001b[0;31m---------------------------------------------------------------------------\u001b[0m",
            "\u001b[0;31mAttributeError\u001b[0m                            Traceback (most recent call last)",
            "\u001b[0;32m<ipython-input-56-8b7bcbe1987d>\u001b[0m in \u001b[0;36m<module>\u001b[0;34m()\u001b[0m\n\u001b[0;32m----> 1\u001b[0;31m \u001b[0mdiv_tags\u001b[0m\u001b[0;34m=\u001b[0m\u001b[0mtitle_tags0\u001b[0m\u001b[0;34m.\u001b[0m\u001b[0mparent\u001b[0m\u001b[0;34m.\u001b[0m\u001b[0mparent\u001b[0m\u001b[0;34m\u001b[0m\u001b[0;34m\u001b[0m\u001b[0m\n\u001b[0m",
            "\u001b[0;31mAttributeError\u001b[0m: 'str' object has no attribute 'parent'"
          ]
        }
      ]
    },
    {
      "cell_type": "code",
      "metadata": {
        "id": "kiCqWtV-_Ff6"
      },
      "source": [
        "link_tags= doc.find_all('a')"
      ],
      "execution_count": 103,
      "outputs": []
    },
    {
      "cell_type": "code",
      "metadata": {
        "id": "7-K-m2aqoaRS"
      },
      "source": [
        "title_tag1=doc.find_all('a', {'class': 'surgery-section-bx'})"
      ],
      "execution_count": 139,
      "outputs": []
    },
    {
      "cell_type": "code",
      "metadata": {
        "id": "uSOR9a-H_FiE"
      },
      "source": [
        "selection_class = 'surgery-section-bx'\n",
        "\n",
        "title_tags= doc.find_all('a', {'class': selection_class})"
      ],
      "execution_count": 140,
      "outputs": []
    },
    {
      "cell_type": "code",
      "metadata": {
        "colab": {
          "base_uri": "https://localhost:8080/",
          "height": 35
        },
        "id": "biD9sXwQ_Fk2",
        "outputId": "91462cda-d9c1-4e8c-e7f3-5ed0c9b57025"
      },
      "source": [
        "title_tags[0]['href']"
      ],
      "execution_count": 143,
      "outputs": [
        {
          "output_type": "execute_result",
          "data": {
            "application/vnd.google.colaboratory.intrinsic+json": {
              "type": "string"
            },
            "text/plain": [
              "'/en/medicine/acerac-p-p37153410?dbv_id=253189'"
            ]
          },
          "metadata": {
            "tags": []
          },
          "execution_count": 143
        }
      ]
    },
    {
      "cell_type": "code",
      "metadata": {
        "id": "VSMUWo7M_FnA"
      },
      "source": [
        "topic_urls0='https://www.myupchar.com/' + title_tags[0]['href']"
      ],
      "execution_count": 144,
      "outputs": []
    },
    {
      "cell_type": "code",
      "metadata": {
        "id": "aZYVrBkvyT1r"
      },
      "source": [
        ""
      ],
      "execution_count": null,
      "outputs": []
    },
    {
      "cell_type": "code",
      "metadata": {
        "colab": {
          "base_uri": "https://localhost:8080/"
        },
        "id": "slZR478X_Fq-",
        "outputId": "51be9426-cd4b-48d6-b043-6198506cd8d7"
      },
      "source": [
        "len(topic_urls0)"
      ],
      "execution_count": 145,
      "outputs": [
        {
          "output_type": "execute_result",
          "data": {
            "text/plain": [
              "70"
            ]
          },
          "metadata": {
            "tags": []
          },
          "execution_count": 145
        }
      ]
    },
    {
      "cell_type": "code",
      "metadata": {
        "colab": {
          "base_uri": "https://localhost:8080/"
        },
        "id": "bJDkL1s6CH_S",
        "outputId": "1ae7eed7-2756-455e-b052-9f51ab47ee08"
      },
      "source": [
        "print(topic_urls0)"
      ],
      "execution_count": 150,
      "outputs": [
        {
          "output_type": "stream",
          "text": [
            "https://www.myupchar.com//en/medicine/acerac-p-p37153410?dbv_id=253189\n"
          ],
          "name": "stdout"
        }
      ]
    },
    {
      "cell_type": "code",
      "metadata": {
        "id": "8mOAi7B1CM8p"
      },
      "source": [
        "upchar_urls = []\n",
        "base_url = 'https://www.myupchar.com/'\n",
        "for tag in title_tags:\n",
        "  upchar_urls.append(base_url + tag['href'])\n",
        "  "
      ],
      "execution_count": 152,
      "outputs": []
    },
    {
      "cell_type": "code",
      "metadata": {
        "colab": {
          "base_uri": "https://localhost:8080/"
        },
        "id": "HojjVj1FCaeg",
        "outputId": "46801ee4-919f-4d96-d519-a50b766d2631"
      },
      "source": [
        "upchar_urls"
      ],
      "execution_count": 153,
      "outputs": [
        {
          "output_type": "execute_result",
          "data": {
            "text/plain": [
              "['https://www.myupchar.com//en/medicine/acerac-p-p37153410?dbv_id=253189',\n",
              " 'https://www.myupchar.com//en/medicine/febrex-plus-p37133631/tablet-v225710',\n",
              " 'https://www.myupchar.com//en/medicine/dolo-micro-labs-p37081551/650-tablet-v93571',\n",
              " 'https://www.myupchar.com//en/medicine/calpol-p37081549/calpol-650-tablet-v93565',\n",
              " 'https://www.myupchar.com//en/medicine/auspyratic-p37153462?dbv_id=253345',\n",
              " 'https://www.myupchar.com//en/medicine/crocin-p37081550/650-tablet-v93568',\n",
              " 'https://www.myupchar.com//en/medicine/combiflam-p37107025/suspension-v226200',\n",
              " 'https://www.myupchar.com//en/medicine/sumo-p37093551/tablet-v229772',\n",
              " 'https://www.myupchar.com//en/medicine/crocin-p37081550/240-ds-suspension-mixed-fruit-v93570',\n",
              " 'https://www.myupchar.com//en/medicine/dolo-micro-labs-p37081551/100-drops-v232347',\n",
              " 'https://www.myupchar.com//en/medicine/acerac-sp-p37153146?dbv_id=252685',\n",
              " 'https://www.myupchar.com//en/medicine/zerodol-p-p37093203?dbv_id=120081',\n",
              " 'https://www.myupchar.com//en/medicine/crocin-p37081550/baby-drops-peppermint-v93569',\n",
              " 'https://www.myupchar.com//en/medicine/dolo-micro-labs-p37081551/250-syrup-v93572',\n",
              " 'https://www.myupchar.com//en/medicine/dolodart-ds-p37081597?dbv_id=93692',\n",
              " 'https://www.myupchar.com//en/medicine/crocin-p37081550/advance-tablet-v93566',\n",
              " 'https://www.myupchar.com//en/medicine/dolopar-p37081552/tablet-v93576',\n",
              " 'https://www.myupchar.com//en/medicine/combipara-sp-p37093084?dbv_id=119958',\n",
              " 'https://www.myupchar.com//en/medicine/sumo-p37093551/hot-gel-v121024',\n",
              " 'https://www.myupchar.com//en/medicine/saridon-p37134040/tablet-v215429',\n",
              " 'https://www.myupchar.com//en/medicine/aldigesic-p-p37093269/suspension-v120155',\n",
              " 'https://www.myupchar.com//en/medicine/flexon-p37107032/tablet-v142036',\n",
              " 'https://www.myupchar.com//en/medicine/combipara-t-p37107158/4-tablet-v142206',\n",
              " 'https://www.myupchar.com//en/medicine/combipara-t-p37107158/8-tablet-v142207']"
            ]
          },
          "metadata": {
            "tags": []
          },
          "execution_count": 153
        }
      ]
    },
    {
      "cell_type": "code",
      "metadata": {
        "id": "7nzc88z6idrV"
      },
      "source": [
        ""
      ],
      "execution_count": null,
      "outputs": []
    },
    {
      "cell_type": "code",
      "metadata": {
        "id": "PAydH1ZizHYA"
      },
      "source": [
        ""
      ],
      "execution_count": null,
      "outputs": []
    },
    {
      "cell_type": "code",
      "metadata": {
        "id": "SnAwm6MczHah"
      },
      "source": [
        ""
      ],
      "execution_count": null,
      "outputs": []
    },
    {
      "cell_type": "code",
      "metadata": {
        "id": "5nS6QrX3zHdq"
      },
      "source": [
        ""
      ],
      "execution_count": null,
      "outputs": []
    },
    {
      "cell_type": "code",
      "metadata": {
        "id": "mnxNYorNzHfr"
      },
      "source": [
        ""
      ],
      "execution_count": null,
      "outputs": []
    },
    {
      "cell_type": "code",
      "metadata": {
        "id": "1_MpxMtQzHjp"
      },
      "source": [
        ""
      ],
      "execution_count": null,
      "outputs": []
    },
    {
      "cell_type": "code",
      "metadata": {
        "id": "HcRFqCk2zHms"
      },
      "source": [
        ""
      ],
      "execution_count": null,
      "outputs": []
    },
    {
      "cell_type": "code",
      "metadata": {
        "id": "-F5RblvczHo6"
      },
      "source": [
        ""
      ],
      "execution_count": null,
      "outputs": []
    },
    {
      "cell_type": "code",
      "metadata": {
        "id": "2e-ZF-FUzHrT"
      },
      "source": [
        ""
      ],
      "execution_count": null,
      "outputs": []
    },
    {
      "cell_type": "code",
      "metadata": {
        "id": "hXDbiJ2szHuR"
      },
      "source": [
        ""
      ],
      "execution_count": null,
      "outputs": []
    },
    {
      "cell_type": "code",
      "metadata": {
        "id": "a7JFl9iSzHwy"
      },
      "source": [
        ""
      ],
      "execution_count": null,
      "outputs": []
    },
    {
      "cell_type": "code",
      "metadata": {
        "id": "9nfgJn5dzH00"
      },
      "source": [
        ""
      ],
      "execution_count": null,
      "outputs": []
    },
    {
      "cell_type": "code",
      "metadata": {
        "id": "bpwnaxiRzH2u"
      },
      "source": [
        ""
      ],
      "execution_count": null,
      "outputs": []
    },
    {
      "cell_type": "code",
      "metadata": {
        "id": "1r_c4r9pidrX"
      },
      "source": [
        ""
      ],
      "execution_count": null,
      "outputs": []
    },
    {
      "cell_type": "code",
      "metadata": {
        "id": "Vrmzse3GckRt"
      },
      "source": [
        ""
      ],
      "execution_count": null,
      "outputs": []
    },
    {
      "cell_type": "code",
      "metadata": {
        "id": "g1v9nzLNckUT"
      },
      "source": [
        ""
      ],
      "execution_count": null,
      "outputs": []
    },
    {
      "cell_type": "code",
      "metadata": {
        "id": "_JXtLwMxckXg"
      },
      "source": [
        ""
      ],
      "execution_count": null,
      "outputs": []
    }
  ]
}